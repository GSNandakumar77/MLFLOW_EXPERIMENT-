{
 "cells": [
  {
   "cell_type": "markdown",
   "id": "acdc7065",
   "metadata": {},
   "source": [
    "###HOUSE PRICE PREDICTION WITh MLFLOW "
   ]
  },
  {
   "cell_type": "code",
   "execution_count": 5,
   "id": "b2319e65",
   "metadata": {},
   "outputs": [],
   "source": [
    "import pandas as pd \n",
    "import numpy as np\n",
    "import mlflow\n",
    "import mlflow.sklearn\n",
    "from sklearn.ensemble import RandomForestRegressor\n",
    "from sklearn.model_selection import train_test_split,GridSearchCV\n",
    "from sklearn.datasets import fetch_california_housing\n",
    "from mlflow.models import infer_signature\n",
    "from sklearn.metrics import mean_squared_error,r2_score,mean_absolute_error \n",
    "housing=fetch_california_housing()"
   ]
  },
  {
   "cell_type": "code",
   "execution_count": 6,
   "id": "5b374857",
   "metadata": {},
   "outputs": [
    {
     "name": "stdout",
     "output_type": "stream",
     "text": [
      "{'data': array([[   8.3252    ,   41.        ,    6.98412698, ...,    2.55555556,\n",
      "          37.88      , -122.23      ],\n",
      "       [   8.3014    ,   21.        ,    6.23813708, ...,    2.10984183,\n",
      "          37.86      , -122.22      ],\n",
      "       [   7.2574    ,   52.        ,    8.28813559, ...,    2.80225989,\n",
      "          37.85      , -122.24      ],\n",
      "       ...,\n",
      "       [   1.7       ,   17.        ,    5.20554273, ...,    2.3256351 ,\n",
      "          39.43      , -121.22      ],\n",
      "       [   1.8672    ,   18.        ,    5.32951289, ...,    2.12320917,\n",
      "          39.43      , -121.32      ],\n",
      "       [   2.3886    ,   16.        ,    5.25471698, ...,    2.61698113,\n",
      "          39.37      , -121.24      ]], shape=(20640, 8)), 'target': array([4.526, 3.585, 3.521, ..., 0.923, 0.847, 0.894], shape=(20640,)), 'frame': None, 'target_names': ['MedHouseVal'], 'feature_names': ['MedInc', 'HouseAge', 'AveRooms', 'AveBedrms', 'Population', 'AveOccup', 'Latitude', 'Longitude'], 'DESCR': '.. _california_housing_dataset:\\n\\nCalifornia Housing dataset\\n--------------------------\\n\\n**Data Set Characteristics:**\\n\\n:Number of Instances: 20640\\n\\n:Number of Attributes: 8 numeric, predictive attributes and the target\\n\\n:Attribute Information:\\n    - MedInc        median income in block group\\n    - HouseAge      median house age in block group\\n    - AveRooms      average number of rooms per household\\n    - AveBedrms     average number of bedrooms per household\\n    - Population    block group population\\n    - AveOccup      average number of household members\\n    - Latitude      block group latitude\\n    - Longitude     block group longitude\\n\\n:Missing Attribute Values: None\\n\\nThis dataset was obtained from the StatLib repository.\\nhttps://www.dcc.fc.up.pt/~ltorgo/Regression/cal_housing.html\\n\\nThe target variable is the median house value for California districts,\\nexpressed in hundreds of thousands of dollars ($100,000).\\n\\nThis dataset was derived from the 1990 U.S. census, using one row per census\\nblock group. A block group is the smallest geographical unit for which the U.S.\\nCensus Bureau publishes sample data (a block group typically has a population\\nof 600 to 3,000 people).\\n\\nA household is a group of people residing within a home. Since the average\\nnumber of rooms and bedrooms in this dataset are provided per household, these\\ncolumns may take surprisingly large values for block groups with few households\\nand many empty houses, such as vacation resorts.\\n\\nIt can be downloaded/loaded using the\\n:func:`sklearn.datasets.fetch_california_housing` function.\\n\\n.. rubric:: References\\n\\n- Pace, R. Kelley and Ronald Barry, Sparse Spatial Autoregressions,\\n  Statistics and Probability Letters, 33:291-297, 1997.\\n'}\n"
     ]
    }
   ],
   "source": [
    "print(housing)"
   ]
  },
  {
   "cell_type": "code",
   "execution_count": 9,
   "id": "dbf48519",
   "metadata": {},
   "outputs": [
    {
     "data": {
      "text/plain": [
       "['MedInc',\n",
       " 'HouseAge',\n",
       " 'AveRooms',\n",
       " 'AveBedrms',\n",
       " 'Population',\n",
       " 'AveOccup',\n",
       " 'Latitude',\n",
       " 'Longitude']"
      ]
     },
     "execution_count": 9,
     "metadata": {},
     "output_type": "execute_result"
    }
   ],
   "source": [
    "housing['feature_names']"
   ]
  },
  {
   "cell_type": "code",
   "execution_count": 13,
   "id": "be85773e",
   "metadata": {},
   "outputs": [
    {
     "data": {
      "text/html": [
       "<div>\n",
       "<style scoped>\n",
       "    .dataframe tbody tr th:only-of-type {\n",
       "        vertical-align: middle;\n",
       "    }\n",
       "\n",
       "    .dataframe tbody tr th {\n",
       "        vertical-align: top;\n",
       "    }\n",
       "\n",
       "    .dataframe thead th {\n",
       "        text-align: right;\n",
       "    }\n",
       "</style>\n",
       "<table border=\"1\" class=\"dataframe\">\n",
       "  <thead>\n",
       "    <tr style=\"text-align: right;\">\n",
       "      <th></th>\n",
       "      <th>MedInc</th>\n",
       "      <th>HouseAge</th>\n",
       "      <th>AveRooms</th>\n",
       "      <th>AveBedrms</th>\n",
       "      <th>Population</th>\n",
       "      <th>AveOccup</th>\n",
       "      <th>Latitude</th>\n",
       "      <th>Longitude</th>\n",
       "      <th>price</th>\n",
       "    </tr>\n",
       "  </thead>\n",
       "  <tbody>\n",
       "    <tr>\n",
       "      <th>0</th>\n",
       "      <td>8.3252</td>\n",
       "      <td>41.0</td>\n",
       "      <td>6.984127</td>\n",
       "      <td>1.023810</td>\n",
       "      <td>322.0</td>\n",
       "      <td>2.555556</td>\n",
       "      <td>37.88</td>\n",
       "      <td>-122.23</td>\n",
       "      <td>4.526</td>\n",
       "    </tr>\n",
       "    <tr>\n",
       "      <th>1</th>\n",
       "      <td>8.3014</td>\n",
       "      <td>21.0</td>\n",
       "      <td>6.238137</td>\n",
       "      <td>0.971880</td>\n",
       "      <td>2401.0</td>\n",
       "      <td>2.109842</td>\n",
       "      <td>37.86</td>\n",
       "      <td>-122.22</td>\n",
       "      <td>3.585</td>\n",
       "    </tr>\n",
       "    <tr>\n",
       "      <th>2</th>\n",
       "      <td>7.2574</td>\n",
       "      <td>52.0</td>\n",
       "      <td>8.288136</td>\n",
       "      <td>1.073446</td>\n",
       "      <td>496.0</td>\n",
       "      <td>2.802260</td>\n",
       "      <td>37.85</td>\n",
       "      <td>-122.24</td>\n",
       "      <td>3.521</td>\n",
       "    </tr>\n",
       "    <tr>\n",
       "      <th>3</th>\n",
       "      <td>5.6431</td>\n",
       "      <td>52.0</td>\n",
       "      <td>5.817352</td>\n",
       "      <td>1.073059</td>\n",
       "      <td>558.0</td>\n",
       "      <td>2.547945</td>\n",
       "      <td>37.85</td>\n",
       "      <td>-122.25</td>\n",
       "      <td>3.413</td>\n",
       "    </tr>\n",
       "    <tr>\n",
       "      <th>4</th>\n",
       "      <td>3.8462</td>\n",
       "      <td>52.0</td>\n",
       "      <td>6.281853</td>\n",
       "      <td>1.081081</td>\n",
       "      <td>565.0</td>\n",
       "      <td>2.181467</td>\n",
       "      <td>37.85</td>\n",
       "      <td>-122.25</td>\n",
       "      <td>3.422</td>\n",
       "    </tr>\n",
       "  </tbody>\n",
       "</table>\n",
       "</div>"
      ],
      "text/plain": [
       "   MedInc  HouseAge  AveRooms  AveBedrms  ...  AveOccup  Latitude  Longitude  price\n",
       "0  8.3252      41.0  6.984127   1.023810  ...  2.555556     37.88    -122.23  4.526\n",
       "1  8.3014      21.0  6.238137   0.971880  ...  2.109842     37.86    -122.22  3.585\n",
       "2  7.2574      52.0  8.288136   1.073446  ...  2.802260     37.85    -122.24  3.521\n",
       "3  5.6431      52.0  5.817352   1.073059  ...  2.547945     37.85    -122.25  3.413\n",
       "4  3.8462      52.0  6.281853   1.081081  ...  2.181467     37.85    -122.25  3.422\n",
       "\n",
       "[5 rows x 9 columns]"
      ]
     },
     "execution_count": 13,
     "metadata": {},
     "output_type": "execute_result"
    }
   ],
   "source": [
    "data=pd.DataFrame(housing.data,columns=housing.feature_names)\n",
    "data['price']=housing['target']\n",
    "data.head()"
   ]
  },
  {
   "cell_type": "markdown",
   "id": "47667c72",
   "metadata": {},
   "source": [
    "# train and test split , model training and hyperparamter MLflow experiments \n"
   ]
  },
  {
   "cell_type": "code",
   "execution_count": 14,
   "id": "be7bf8fe",
   "metadata": {},
   "outputs": [],
   "source": [
    "from urllib.parse import urlparse##\n",
    "X=data.drop('price',axis=1)\n",
    "y=data['price']"
   ]
  },
  {
   "cell_type": "code",
   "execution_count": 19,
   "id": "57d3ddc9",
   "metadata": {},
   "outputs": [],
   "source": [
    "def hyperparameter_tuning(X_train,y_train,params):\n",
    "    rf=RandomForestRegressor()\n",
    "    \n",
    "    grid_search=GridSearchCV(rf,param_grid=params,cv=3,n_jobs=-1,verbose=2,scoring='neg_mean_squared_error')\n",
    "    grid_search.fit(X_train,y_train)\n",
    "    return grid_search"
   ]
  },
  {
   "cell_type": "code",
   "execution_count": null,
   "id": "cdd131e2",
   "metadata": {},
   "outputs": [
    {
     "name": "stdout",
     "output_type": "stream",
     "text": [
      "Fitting 3 folds for each of 54 candidates, totalling 162 fits\n"
     ]
    },
    {
     "ename": "AttributeError",
     "evalue": "'str' object has no attribute 'items'",
     "output_type": "error",
     "traceback": [
      "\u001b[31m---------------------------------------------------------------------------\u001b[39m",
      "\u001b[31mAttributeError\u001b[39m                            Traceback (most recent call last)",
      "\u001b[36mCell\u001b[39m\u001b[36m \u001b[39m\u001b[32mIn[20]\u001b[39m\u001b[32m, line 29\u001b[39m\n\u001b[32m     26\u001b[39m mse=mean_squared_error(y_test,y_pred)\n\u001b[32m     28\u001b[39m \u001b[38;5;66;03m##log best parameters and metrics\u001b[39;00m\n\u001b[32m---> \u001b[39m\u001b[32m29\u001b[39m \u001b[43mmlflow\u001b[49m\u001b[43m.\u001b[49m\u001b[43mlog_params\u001b[49m\u001b[43m(\u001b[49m\u001b[33;43m\"\u001b[39;49m\u001b[33;43mbest_n_estimator\u001b[39;49m\u001b[33;43m\"\u001b[39;49m\u001b[43m,\u001b[49m\u001b[43mgrid_search\u001b[49m\u001b[43m.\u001b[49m\u001b[43mbest_params_\u001b[49m\u001b[43m[\u001b[49m\u001b[33;43m'\u001b[39;49m\u001b[33;43mn_estimators\u001b[39;49m\u001b[33;43m'\u001b[39;49m\u001b[43m]\u001b[49m\u001b[43m)\u001b[49m\n\u001b[32m     30\u001b[39m mlflow.log_params(\u001b[33m\"\u001b[39m\u001b[33mmax_depth\u001b[39m\u001b[33m\"\u001b[39m,grid_search.best_params_[\u001b[33m'\u001b[39m\u001b[33mmax_depth\u001b[39m\u001b[33m'\u001b[39m])\n\u001b[32m     31\u001b[39m mlflow.log_params(\u001b[33m\"\u001b[39m\u001b[33mmin_samples_split\u001b[39m\u001b[33m\"\u001b[39m,grid_search.best_params_[\u001b[33m'\u001b[39m\u001b[33mmin_samples_split\u001b[39m\u001b[33m'\u001b[39m])\n",
      "\u001b[36mFile \u001b[39m\u001b[32me:\\mlflow\\mlflowvenv\\Lib\\site-packages\\mlflow\\tracking\\fluent.py:1188\u001b[39m, in \u001b[36mlog_params\u001b[39m\u001b[34m(params, synchronous, run_id)\u001b[39m\n\u001b[32m   1152\u001b[39m \u001b[38;5;250m\u001b[39m\u001b[33;03m\"\"\"\u001b[39;00m\n\u001b[32m   1153\u001b[39m \u001b[33;03mLog a batch of params for the current run. If no run is active, this method will create a\u001b[39;00m\n\u001b[32m   1154\u001b[39m \u001b[33;03mnew active run.\u001b[39;00m\n\u001b[32m   (...)\u001b[39m\u001b[32m   1185\u001b[39m \u001b[33;03m        mlflow.log_params(params, synchronous=False)\u001b[39;00m\n\u001b[32m   1186\u001b[39m \u001b[33;03m\"\"\"\u001b[39;00m\n\u001b[32m   1187\u001b[39m run_id = run_id \u001b[38;5;129;01mor\u001b[39;00m _get_or_start_run().info.run_id\n\u001b[32m-> \u001b[39m\u001b[32m1188\u001b[39m params_arr = [Param(key, \u001b[38;5;28mstr\u001b[39m(value)) \u001b[38;5;28;01mfor\u001b[39;00m key, value \u001b[38;5;129;01min\u001b[39;00m \u001b[43mparams\u001b[49m\u001b[43m.\u001b[49m\u001b[43mitems\u001b[49m()]\n\u001b[32m   1189\u001b[39m synchronous = synchronous \u001b[38;5;28;01mif\u001b[39;00m synchronous \u001b[38;5;129;01mis\u001b[39;00m \u001b[38;5;129;01mnot\u001b[39;00m \u001b[38;5;28;01mNone\u001b[39;00m \u001b[38;5;28;01melse\u001b[39;00m \u001b[38;5;129;01mnot\u001b[39;00m MLFLOW_ENABLE_ASYNC_LOGGING.get()\n\u001b[32m   1190\u001b[39m \u001b[38;5;28;01mreturn\u001b[39;00m MlflowClient().log_batch(\n\u001b[32m   1191\u001b[39m     run_id=run_id, metrics=[], params=params_arr, tags=[], synchronous=synchronous\n\u001b[32m   1192\u001b[39m )\n",
      "\u001b[31mAttributeError\u001b[39m: 'str' object has no attribute 'items'"
     ]
    }
   ],
   "source": [
    "from math import e\n",
    "from flask import url_for\n",
    "from matplotlib.pyplot import grid\n",
    "\n",
    "#train and test split , model training and hyperparamter MLflow experiments\n",
    "X_train,X_test,y_train,y_test=train_test_split(X,y,test_size=0.2,random_state=42)\n",
    "from mlflow.models import infer_signature\n",
    "signature=infer_signature(X_train,y_train)\n",
    "##define parameter grid \n",
    "\n",
    "params={\n",
    "    'n_estimators':[100,200],\n",
    "    'max_depth':[5,10,20],\n",
    "    'min_samples_split':[2,5,10],\n",
    "    'min_samples_leaf':[1,2,4]\n",
    "}\n",
    "\n",
    "#start the mlflow experiments \n",
    "with mlflow.start_run():\n",
    "    #perform hyperparameter tuning\n",
    "    grid_search=hyperparameter_tuning(X_train,y_train,params)\n",
    "    #get the best model\n",
    "    best_model=grid_search.best_estimator_\n",
    "    #evalute the model\n",
    "    y_pred=best_model.predict(X_test)\n",
    "    mse=mean_squared_error(y_test,y_pred)\n",
    "\n",
    "    ##log best parameters and metrics\n",
    "    mlflow.log_params(\"best_n_estimator\",grid_search.best_params_['n_estimators'])\n",
    "    mlflow.log_params(\"max_depth\",grid_search.best_params_['max_depth'])\n",
    "    mlflow.log_params(\"min_samples_split\",grid_search.best_params_['min_samples_split'])\n",
    "    mlflow.log_params(\"min_samples_leaf\",grid_search.best_params_['min_samples_leaf'])\n",
    "    mlflow.log_metric(\"mse\",mse )\n",
    "\n",
    "\n",
    "    #tracking url\n",
    "    \n",
    "# set MLflow tracking server (local or remote)\n",
    "    '''Basically, urlparse is used so your code can adapt automatically to whether you are using local MLflow tracking or a remote MLflow server.'''\n",
    "    mlflow.set_tracking_uri(uri=\"http://127.0.0.1:5000\")    \n",
    "    tracking_url_type_store=urlparse(mlflow.get_tracking_uri()).scheme\n",
    "\n",
    "    if tracking_url_type_store!=\"file\":\n",
    "        mlflow.sklearn.log_model(best_model,'model',registered_model_name=\"RandomForestRegressorHousePrice\",signature=signature)\n",
    "    else:\n",
    "        mlflow.sklearn.log_model(best_model,'model',signature=signature)#if it is a file store menas no need to registery in the server based on the tracking url type store\n",
    "    print(\"best params:\",grid_search.best_params_)\n",
    "    print(\"best model\",best_model)\n",
    "    print(\"mse:\",mse)"
   ]
  },
  {
   "cell_type": "code",
   "execution_count": null,
   "id": "c9c53af8",
   "metadata": {},
   "outputs": [],
   "source": [
    "\n"
   ]
  }
 ],
 "metadata": {
  "kernelspec": {
   "display_name": "Python 3",
   "language": "python",
   "name": "python3"
  },
  "language_info": {
   "codemirror_mode": {
    "name": "ipython",
    "version": 3
   },
   "file_extension": ".py",
   "mimetype": "text/x-python",
   "name": "python",
   "nbconvert_exporter": "python",
   "pygments_lexer": "ipython3",
   "version": "3.13.7"
  }
 },
 "nbformat": 4,
 "nbformat_minor": 5
}
